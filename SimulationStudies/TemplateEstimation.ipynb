{
 "cells": [
  {
   "cell_type": "code",
   "execution_count": null,
   "metadata": {},
   "outputs": [],
   "source": [
    "import numpy as np\n",
    "import pandas as pd\n",
    "import matplotlib.pyplot as plt"
   ]
  },
  {
   "cell_type": "code",
   "execution_count": null,
   "metadata": {},
   "outputs": [],
   "source": [
    "%matplotlib notebook"
   ]
  },
  {
   "cell_type": "code",
   "execution_count": null,
   "metadata": {},
   "outputs": [],
   "source": [
    "tempmean = pd.read_csv(\"hgrv_temp_est_rmsmean.csv\")\n",
    "numspec = tempmean.iloc[:,0]\n",
    "tempmean = tempmean.iloc[:,1:]\n",
    "snr = tempmean.columns\n",
    "tempsd = pd.read_csv(\"hgrv_temp_est_rmsstd.csv\").iloc[:,1:]"
   ]
  },
  {
   "cell_type": "code",
   "execution_count": null,
   "metadata": {},
   "outputs": [],
   "source": [
    "fig, ax = plt.subplots(nrows = 1, ncols = 2, figsize=(6,4))\n",
    "plt.rc('text', usetex=True)\n",
    "im = ax[0].imshow(tempmean.T, cmap = 'YlOrRd', origin='lower')\n",
    "ytck = np.array([0,5,10,15])\n",
    "ax[0].xaxis.set_label_position('top') \n",
    "ax[0].xaxis.set_ticks_position(\"top\")\n",
    "ax[0].set_xticks(ytck)\n",
    "ax[0].set_xticklabels(['%s'%(2*t+1) for t in ytck], fontsize=12)\n",
    "ax[0].set_yticks(ytck)\n",
    "ax[0].set_yticklabels([\"%s\"%(100 + 10*t) for t in ytck], fontsize=12)\n",
    "ax[0].set_ylabel(\"S/N\", fontsize=14)\n",
    "ax[0].set_xlabel(r\"$\\#$ of Spectra\", fontsize=14)\n",
    "cbar = fig.colorbar(im, ax=ax[0], orientation='horizontal', pad=0.05)\n",
    "cbar.set_label(r\"$\\overline{\\widehat{\\mathrm{RMS}}\\left( \\hat{\\tau} \\right)} $\", fontsize=14)\n",
    "cbar.ax.tick_params(labelsize=12)\n",
    "\n",
    "im = ax[1].imshow(tempsd.T, cmap = 'Purples', origin='lower')\n",
    "ax[1].xaxis.set_label_position('top') \n",
    "ax[1].xaxis.set_ticks_position(\"top\")\n",
    "ax[1].set_xticks(ytck)\n",
    "ax[1].set_xticklabels(['%s'%(2*t+1) for t in ytck], fontsize=12)\n",
    "ax[1].set_yticks(ytck)\n",
    "ax[1].set_yticklabels(['']*4, fontsize=12)\n",
    "ax[1].set_xlabel(r\"$\\#$ of Spectra\", fontsize=14)\n",
    "cbar = fig.colorbar(im, ax=ax[1], orientation='horizontal', pad=0.05)\n",
    "cbar.set_label(r\"SD$\\left(\\widehat{\\mathrm{RMS}}\\left( \\hat{\\tau} \\right) \\right)$ \", fontsize=14)\n",
    "cbar.ax.tick_params(labelsize=12)\n",
    "\n",
    "\n",
    "plt.tight_layout()\n",
    "#plt.savefig(\"template_est\")\n",
    "plt.show()"
   ]
  }
 ],
 "metadata": {
  "kernelspec": {
   "display_name": "Python 3",
   "language": "python",
   "name": "python3"
  },
  "language_info": {
   "codemirror_mode": {
    "name": "ipython",
    "version": 3
   },
   "file_extension": ".py",
   "mimetype": "text/x-python",
   "name": "python",
   "nbconvert_exporter": "python",
   "pygments_lexer": "ipython3",
   "version": "3.7.3"
  }
 },
 "nbformat": 4,
 "nbformat_minor": 2
}
