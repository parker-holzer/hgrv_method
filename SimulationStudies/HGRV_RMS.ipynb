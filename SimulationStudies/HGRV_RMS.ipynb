{
 "cells": [
  {
   "cell_type": "code",
   "execution_count": null,
   "metadata": {},
   "outputs": [],
   "source": [
    "import numpy as np\n",
    "import pandas as pd\n",
    "import matplotlib.pyplot as plt"
   ]
  },
  {
   "cell_type": "code",
   "execution_count": null,
   "metadata": {},
   "outputs": [],
   "source": [
    "%matplotlib notebook"
   ]
  },
  {
   "cell_type": "markdown",
   "metadata": {},
   "source": [
    "# HGRV"
   ]
  },
  {
   "cell_type": "code",
   "execution_count": null,
   "metadata": {},
   "outputs": [],
   "source": [
    "MSE = pd.read_csv(\"hgrv_mse.csv\")\n",
    "snr = MSE.iloc[:,0]\n",
    "MSE = MSE.iloc[:,1:]\n",
    "Bias = pd.read_csv(\"hgrv_bias.csv\").iloc[:,1:]\n",
    "Var = pd.read_csv(\"hgrv_var.csv\").iloc[:,1:]\n",
    "rvpwr = MSE.columns"
   ]
  },
  {
   "cell_type": "code",
   "execution_count": null,
   "metadata": {},
   "outputs": [],
   "source": [
    "fig, ax = plt.subplots(nrows = 1, ncols = 3, figsize=(9,4))\n",
    "plt.rc('text', usetex=True)\n",
    "im = ax[0].imshow(np.sqrt(MSE.T), cmap = 'Greens', origin='lower')\n",
    "ytck = np.array([0,5,10,15])\n",
    "ax[0].xaxis.set_label_position('top') \n",
    "ax[0].xaxis.set_ticks_position(\"top\")\n",
    "ax[0].set_xticks(ytck)\n",
    "ax[0].set_xticklabels(['%s'%(100 + 10*t) for t in ytck], fontsize=12)\n",
    "ax[0].set_yticks(ytck)\n",
    "ax[0].set_yticklabels(['0.01', '0.1', '1.0', '10.0'], fontsize=12)\n",
    "ax[0].set_ylabel(r\"$v_{r}$ (m s$^{-1}$)\", fontsize=14)\n",
    "ax[0].set_xlabel(\"S/N\", fontsize=14)\n",
    "cbar = fig.colorbar(im, ax=ax[0], orientation='horizontal', pad=0.05)\n",
    "cbar.set_label(r\"$\\widehat{\\mathrm{RMS}}\\left( \\hat{v}_{r} \\right)$ (m s$^{-1}$)\", fontsize=14)\n",
    "cbar.set_ticks([0.3,0.5,0.7])\n",
    "cbar.ax.tick_params(labelsize=12)\n",
    "\n",
    "im = ax[1].imshow(np.sqrt(Var.T), cmap = 'Blues', origin='lower')\n",
    "ax[1].xaxis.set_label_position('top') \n",
    "ax[1].xaxis.set_ticks_position(\"top\")\n",
    "ax[1].set_xticks(ytck)\n",
    "ax[1].set_xticklabels(['%s'%(100 + 10*t) for t in ytck], fontsize=12)\n",
    "ax[1].set_yticks(ytck)\n",
    "ax[1].set_yticklabels(['']*4, fontsize=12)\n",
    "ax[1].set_xlabel(\"S/N\", fontsize=14)\n",
    "cbar = fig.colorbar(im, ax=ax[1], orientation='horizontal', pad=0.05)\n",
    "cbar.set_label(r\"$\\widehat{\\mathrm{SD}}\\left( \\hat{v}_{r} \\right)$ (m s$^{-1}$)\", fontsize=14)\n",
    "cbar.set_ticks([0.3,0.5,0.7])\n",
    "cbar.ax.tick_params(labelsize=12)\n",
    "\n",
    "im = ax[2].imshow(Bias.T, cmap = 'PuOr', origin='lower')\n",
    "ax[2].xaxis.set_label_position('top') \n",
    "ax[2].xaxis.set_ticks_position(\"top\")\n",
    "ax[2].set_xticks(ytck)\n",
    "ax[2].set_xticklabels(['%s'%(100 + 10*t) for t in ytck], fontsize=12)\n",
    "ax[2].set_yticks(ytck)\n",
    "ax[2].set_yticklabels(['']*4, fontsize=12)\n",
    "ax[2].set_xlabel(\"S/N\", fontsize=14)\n",
    "im.set_clim(-np.max([-np.min(Bias), np.max(Bias)]),np.max([-np.min(Bias), np.max(Bias)]))\n",
    "cbar = fig.colorbar(im, ax=ax[2], orientation='horizontal', pad=0.05)\n",
    "cbar.set_label(r\"$\\widehat{\\mathrm{Bias}}\\left( \\hat{v}_{r} \\right)$ (m s$^{-1}$)\", fontsize=14)\n",
    "cbar.ax.tick_params(labelsize=12)\n",
    "\n",
    "plt.tight_layout()\n",
    "#plt.savefig(\"HGRV_rms\")\n",
    "plt.show()"
   ]
  },
  {
   "cell_type": "code",
   "execution_count": null,
   "metadata": {},
   "outputs": [],
   "source": []
  }
 ],
 "metadata": {
  "kernelspec": {
   "display_name": "Python 3",
   "language": "python",
   "name": "python3"
  },
  "language_info": {
   "codemirror_mode": {
    "name": "ipython",
    "version": 3
   },
   "file_extension": ".py",
   "mimetype": "text/x-python",
   "name": "python",
   "nbconvert_exporter": "python",
   "pygments_lexer": "ipython3",
   "version": "3.7.3"
  }
 },
 "nbformat": 4,
 "nbformat_minor": 2
}
